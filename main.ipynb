{
  "nbformat": 4,
  "nbformat_minor": 0,
  "metadata": {
    "colab": {
      "name": "Задание 3: Кривая Гильберта",
      "provenance": [],
      "collapsed_sections": [],
      "authorship_tag": "ABX9TyMAgDP8aFLgqGlbWrsL8oNc",
      "include_colab_link": true
    },
    "kernelspec": {
      "name": "python3",
      "display_name": "Python 3"
    },
    "language_info": {
      "name": "python"
    }
  },
  "cells": [
    {
      "cell_type": "markdown",
      "metadata": {
        "id": "view-in-github",
        "colab_type": "text"
      },
      "source": [
        "<a href=\"https://colab.research.google.com/github/valerian720/Hilbert_curve/blob/main/main.ipynb\" target=\"_parent\"><img src=\"https://colab.research.google.com/assets/colab-badge.svg\" alt=\"Open In Colab\"/></a>"
      ]
    },
    {
      "cell_type": "markdown",
      "source": [
        "Создать приложение с картой размером минимум 12х12, задать координаты точек с помощью кривой Гильберта.\n",
        "\n",
        "\n",
        "При вводе точки на выходе пользователь должен получать окрестности точки (3, 5 или 8 точек в зависимости от расположения)."
      ],
      "metadata": {
        "id": "hN5oHZJxsjm9"
      }
    },
    {
      "cell_type": "code",
      "source": [
        "import numpy as np"
      ],
      "metadata": {
        "id": "sCS4YcQn2M2n"
      },
      "execution_count": null,
      "outputs": []
    },
    {
      "cell_type": "code",
      "execution_count": null,
      "metadata": {
        "id": "Cx0OKvXfpgJa"
      },
      "outputs": [],
      "source": [
        "map_size = 12 #@param {type: \"slider\", min: 12, max: 100}"
      ]
    },
    {
      "cell_type": "code",
      "source": [
        "class Point:\n",
        "  def __init__(self, x, y):\n",
        "    self.x = x\n",
        "    self.y = y\n",
        "\n",
        "  def __str__(self):\n",
        "        return f'[{self.x}-{self.y}]'\n",
        "\n",
        "  def __repr__(self):\n",
        "        return f'[{self.x}-{self.y}]'"
      ],
      "metadata": {
        "id": "foW2qJyo3QpL"
      },
      "execution_count": null,
      "outputs": []
    },
    {
      "cell_type": "code",
      "source": [
        "# https://russianblogs.com/article/65861872102/\n",
        "# Hilbert\n",
        "def rot(n, pt, rx, ry):\n",
        "  if ry == 0:\n",
        "    if rx == 1:\n",
        "      pt.x = n - 1 - pt.x\n",
        "      pt.y = n - 1 - pt.y\n",
        "\n",
        "    # swap x and y\n",
        "    pt.x, pt.y = pt.y, pt.x\n",
        "    \n",
        "# Hilbert Code для координаты XY\n",
        "def d2xy(n, d, pt):\n",
        "  rx = ry = t = d\n",
        "  pt.x = pt.y = 0\n",
        "  s = 1\n",
        "  # \n",
        "  while s < n :\n",
        "    rx = 1 & (t / 2)\n",
        "    ry = 1 & (t ^ rx)\n",
        "    rot(s, pt, rx, ry)\n",
        "    pt.x += s * rx\n",
        "    pt.y += s * ry\n",
        "    t /= 4\n",
        "    # \n",
        "    s *= 2 \n",
        "\n",
        "# XY Координата для преобразования кода Hilbert\n",
        "def xy2d(n, pt):\n",
        "  rx = ry = d = 0\n",
        "  # \n",
        "  s = n // 2\n",
        "  # \n",
        "  while s > 0:\n",
        "    rx = 1 if ((pt.x & s) > 0) else 0\n",
        "    ry = 1 if ((pt.y & s) > 0) else 0\n",
        "    d += s * s * ((3 * rx) ^ ry)\n",
        "    rot(s, pt, rx, ry)\n",
        "    # \n",
        "    s = s//2\n",
        "  return d\n"
      ],
      "metadata": {
        "id": "Hgu3cjfy2qK7"
      },
      "execution_count": null,
      "outputs": []
    },
    {
      "cell_type": "code",
      "source": [
        "size = 2**(map_size - 1).bit_length()\n",
        "\n",
        "map = [[xy2d(size, Point(j, i)) for j in range (map_size)] for i in range (map_size)]\n",
        "for row in map:\n",
        "  print(row)"
      ],
      "metadata": {
        "colab": {
          "base_uri": "https://localhost:8080/"
        },
        "id": "RrhxzOZCkKD2",
        "outputId": "41cedbe7-b6ad-4ca1-9868-478f4003f48f"
      },
      "execution_count": null,
      "outputs": [
        {
          "output_type": "stream",
          "name": "stdout",
          "text": [
            "[0, 1, 14, 15, 16, 19, 20, 21, 234, 235, 236, 239]\n",
            "[3, 2, 13, 12, 17, 18, 23, 22, 233, 232, 237, 238]\n",
            "[4, 7, 8, 11, 30, 29, 24, 25, 230, 231, 226, 225]\n",
            "[5, 6, 9, 10, 31, 28, 27, 26, 229, 228, 227, 224]\n",
            "[58, 57, 54, 53, 32, 35, 36, 37, 218, 219, 220, 223]\n",
            "[59, 56, 55, 52, 33, 34, 39, 38, 217, 216, 221, 222]\n",
            "[60, 61, 50, 51, 46, 45, 40, 41, 214, 215, 210, 209]\n",
            "[63, 62, 49, 48, 47, 44, 43, 42, 213, 212, 211, 208]\n",
            "[64, 67, 68, 69, 122, 123, 124, 127, 128, 131, 132, 133]\n",
            "[65, 66, 71, 70, 121, 120, 125, 126, 129, 130, 135, 134]\n",
            "[78, 77, 72, 73, 118, 119, 114, 113, 142, 141, 136, 137]\n",
            "[79, 76, 75, 74, 117, 116, 115, 112, 143, 140, 139, 138]\n"
          ]
        }
      ]
    },
    {
      "cell_type": "code",
      "source": [
        "# get neighbours of point \n",
        "def list_neighbours(size, radius, x, y):\n",
        "  ret = []\n",
        "  # return [radius] by [radius] area\n",
        "  for k in range(radius*2+1):\n",
        "    for l in range(radius*2+1):\n",
        "      i = x - radius + k\n",
        "      j = y - radius + l\n",
        "      # \n",
        "      if not (i == x and j == y) and (i >= 0 and j >= 0) and (i < size and j < size):\n",
        "        ret.append(Point(i, j))\n",
        "  # \n",
        "  return ret"
      ],
      "metadata": {
        "id": "5XlmJySKyr1-"
      },
      "execution_count": null,
      "outputs": []
    },
    {
      "cell_type": "code",
      "source": [
        "#@markdown get neighbours' Hilbert indexes of point \n",
        "x_pos = 0 #@param {type: \"slider\", min: 0, max: 100}\n",
        "y_pos = 1 #@param {type: \"slider\", min: 0, max: 100}\n",
        "\n",
        "for point in list_neighbours(map_size, 1, x_pos, y_pos):\n",
        "  print(point, \":\", map[point.y][point.x])"
      ],
      "metadata": {
        "colab": {
          "base_uri": "https://localhost:8080/"
        },
        "id": "Yb_40T352Rn9",
        "outputId": "57b259dd-9169-42b4-e30a-8b3cf74a1092"
      },
      "execution_count": null,
      "outputs": [
        {
          "output_type": "stream",
          "name": "stdout",
          "text": [
            "[0-0] : 0\n",
            "[0-2] : 4\n",
            "[1-0] : 1\n",
            "[1-1] : 2\n",
            "[1-2] : 7\n"
          ]
        }
      ]
    }
  ]
}